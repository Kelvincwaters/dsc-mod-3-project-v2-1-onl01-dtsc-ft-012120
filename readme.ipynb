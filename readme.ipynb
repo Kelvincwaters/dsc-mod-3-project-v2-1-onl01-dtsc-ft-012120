{
 "cells": [
  {
   "cell_type": "code",
   "execution_count": 5,
   "metadata": {},
   "outputs": [
    {
     "ename": "SyntaxError",
     "evalue": "invalid syntax (<ipython-input-5-120937aa74f1>, line 3)",
     "output_type": "error",
     "traceback": [
      "\u001b[1;36m  File \u001b[1;32m\"<ipython-input-5-120937aa74f1>\"\u001b[1;36m, line \u001b[1;32m3\u001b[0m\n\u001b[1;33m    * V1 - ???\u001b[0m\n\u001b[1;37m           ^\u001b[0m\n\u001b[1;31mSyntaxError\u001b[0m\u001b[1;31m:\u001b[0m invalid syntax\n"
     ]
    }
   ],
   "source": [
    "### In this project we'll be working on a unbalanced dataset in an attempt to predict financial fraud, namely invalid credit card purchases. This dataset does not have a dictionary and the features have be altered for privacy purposes, the data also appears to be normalized. The features appear as:\n",
    "* Time - time \n",
    "* V1 - ???\n",
    "* V2 - ???\n",
    "* V3 - ???\n",
    "* V4 - ???\n",
    "* V5 - ???\n",
    "* V6 - ???\n",
    "* V7 - ???\n",
    "* V8 - ???\n",
    "* V9 - ???\n",
    "* V10 - ???\n",
    "* V11 - ???\n",
    "* V12 - ???\n",
    "* V13 - ???\n",
    "* V14 - ???\n",
    "* V15 - ???\n",
    "* V16 - ???\n",
    "* V17 - ???\n",
    "* V18 - ???\n",
    "* V19 - ???\n",
    "* V20 - ???\n",
    "* V21 - ???\n",
    "* V22 - ???\n",
    "* V23 - ???\n",
    "* V24 - ???\n",
    "* V25 - ???\n",
    "* V26 - ???\n",
    "* V27 - ???\n",
    "* V28 - ???\n",
    "* Amount - transaction amount(assuming)\n",
    "* Class - fraud no 0 or yes 1\n",
    "<img src=\"under_oversampling.png\" width=600>"
   ]
  },
  {
   "cell_type": "code",
   "execution_count": 6,
   "metadata": {},
   "outputs": [
    {
     "name": "stderr",
     "output_type": "stream",
     "text": [
      "[NbConvertApp] Converting notebook readme.ipynb to Markdown\n",
      "[NbConvertApp] Writing 1229 bytes to readme.md\n"
     ]
    }
   ],
   "source": [
    "# use this line to run the nbconvert to readme.md github file and replace README.md\n",
    "! jupyter nbconvert --to Markdown readme.ipynb"
   ]
  },
  {
   "cell_type": "code",
   "execution_count": null,
   "metadata": {},
   "outputs": [],
   "source": []
  }
 ],
 "metadata": {
  "kernelspec": {
   "display_name": "Python 3",
   "language": "python",
   "name": "python3"
  },
  "language_info": {
   "codemirror_mode": {
    "name": "ipython",
    "version": 3
   },
   "file_extension": ".py",
   "mimetype": "text/x-python",
   "name": "python",
   "nbconvert_exporter": "python",
   "pygments_lexer": "ipython3",
   "version": "3.6.10"
  },
  "latex_envs": {
   "LaTeX_envs_menu_present": true,
   "autoclose": false,
   "autocomplete": true,
   "bibliofile": "biblio.bib",
   "cite_by": "apalike",
   "current_citInitial": 1,
   "eqLabelWithNumbers": true,
   "eqNumInitial": 1,
   "hotkeys": {
    "equation": "Ctrl-E",
    "itemize": "Ctrl-I"
   },
   "labels_anchors": false,
   "latex_user_defs": false,
   "report_style_numbering": false,
   "user_envs_cfg": false
  },
  "toc": {
   "base_numbering": 1,
   "nav_menu": {},
   "number_sections": true,
   "sideBar": true,
   "skip_h1_title": false,
   "title_cell": "Table of Contents",
   "title_sidebar": "Contents",
   "toc_cell": false,
   "toc_position": {},
   "toc_section_display": true,
   "toc_window_display": false
  }
 },
 "nbformat": 4,
 "nbformat_minor": 4
}
